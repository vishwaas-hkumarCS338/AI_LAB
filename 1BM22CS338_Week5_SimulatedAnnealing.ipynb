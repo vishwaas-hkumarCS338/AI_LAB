{
  "nbformat": 4,
  "nbformat_minor": 0,
  "metadata": {
    "colab": {
      "provenance": []
    },
    "kernelspec": {
      "name": "python3",
      "display_name": "Python 3"
    },
    "language_info": {
      "name": "python"
    }
  },
  "cells": [
    {
      "cell_type": "code",
      "source": [
        "import random\n",
        "import math\n",
        "\n",
        "def count_attacks(queen_positions):\n",
        "    attack_count = 0\n",
        "    size = len(queen_positions)\n",
        "    for i in range(size):\n",
        "        for j in range(i + 1, size):\n",
        "            if queen_positions[i] == queen_positions[j]:\n",
        "                attack_count += 1\n",
        "            if abs(queen_positions[i] - queen_positions[j]) == abs(i - j):\n",
        "                attack_count += 1\n",
        "    return attack_count\n",
        "\n",
        "def generate_random_move(current_positions):\n",
        "    new_state = current_positions[:]\n",
        "    column_to_change = random.randint(0, len(current_positions) - 1)\n",
        "    new_row_position = random.randint(0, len(current_positions) - 1)\n",
        "    new_state[column_to_change] = new_row_position\n",
        "    return new_state\n",
        "\n",
        "def annealing_search(board_size, initial_configuration):\n",
        "    current_positions = initial_configuration[:]\n",
        "    current_attack_count = count_attacks(current_positions)\n",
        "\n",
        "    temp = 1000\n",
        "    min_temp = 0.0001\n",
        "    cooling_factor = 0.99\n",
        "\n",
        "    step_count = 0\n",
        "    visited_states = set()\n",
        "\n",
        "    while temp > min_temp and current_attack_count > 0:\n",
        "        step_count += 1\n",
        "\n",
        "        #if step_count % 150 == 0:\n",
        "            #print(\"Step\", step_count, \": Attacks =\", current_attack_count)\n",
        "\n",
        "        new_positions = generate_random_move(current_positions)\n",
        "\n",
        "        new_positions_tuple = tuple(new_positions)\n",
        "\n",
        "        if new_positions_tuple in visited_states:\n",
        "            continue\n",
        "\n",
        "        visited_states.add(new_positions_tuple)\n",
        "\n",
        "        new_attack_count = count_attacks(new_positions)\n",
        "\n",
        "        energy_difference = new_attack_count - current_attack_count\n",
        "\n",
        "        if energy_difference < 0 or random.random() < math.exp(-energy_difference / temp):\n",
        "            current_positions, current_attack_count = new_positions, new_attack_count\n",
        "\n",
        "        temp *= cooling_factor\n",
        "\n",
        "        if current_attack_count == 0:\n",
        "            print(\"Solution found after\", step_count, \"steps!\")\n",
        "            break\n",
        "\n",
        "    return current_positions, current_attack_count\n",
        "\n",
        "\n",
        "board_size = int(input(\"Enter the size of the board (N): \"))\n",
        "initial_input = input(\"Enter the initial configuration: \")\n",
        "initial_queen_positions = [int(pos) for pos in initial_input.strip('[]').split(',')]\n",
        "\n",
        "if len(initial_queen_positions) != board_size:\n",
        "    print(\"Error: The initial configuration must contain exactly\", board_size, \"integers.\")\n",
        "else:\n",
        "    solution, conflicts = annealing_search(board_size, initial_queen_positions)\n",
        "\n",
        "    if conflicts == 0:\n",
        "        print(\"Solution found!\")\n",
        "        print(\"Final board configuration:\", solution)\n",
        "    else:\n",
        "        print(\"No solution found. Final conflict count:\", conflicts)\n"
      ],
      "metadata": {
        "colab": {
          "base_uri": "https://localhost:8080/"
        },
        "id": "X5jnOLHbkX_2",
        "outputId": "4409de97-8ae8-49e5-a75a-7f691cf0ae6b"
      },
      "execution_count": 14,
      "outputs": [
        {
          "output_type": "stream",
          "name": "stdout",
          "text": [
            "Enter the size of the board (N): 8\n",
            "Enter the initial configuration: 4,5,6,3,4,5,6,5\n",
            "Solution found after 1394 steps!\n",
            "Solution found!\n",
            "Final board configuration: [4, 0, 7, 3, 1, 6, 2, 5]\n"
          ]
        }
      ]
    }
  ]
}
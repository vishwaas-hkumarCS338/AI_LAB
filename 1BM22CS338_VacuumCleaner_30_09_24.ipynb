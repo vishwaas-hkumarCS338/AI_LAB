{
  "nbformat": 4,
  "nbformat_minor": 0,
  "metadata": {
    "colab": {
      "provenance": []
    },
    "kernelspec": {
      "name": "python3",
      "display_name": "Python 3"
    },
    "language_info": {
      "name": "python"
    }
  },
  "cells": [
    {
      "cell_type": "code",
      "execution_count": 1,
      "metadata": {
        "colab": {
          "base_uri": "https://localhost:8080/"
        },
        "id": "Spy10A-pzrFA",
        "outputId": "e8546802-606a-4705-e971-1bbb8cc65219"
      },
      "outputs": [
        {
          "output_type": "stream",
          "name": "stdout",
          "text": [
            "Location A is Clean\n",
            "Location B is Dirty\n",
            "Vacuum is at location B\n",
            "\n",
            "Cleaning location B\n",
            "\n",
            "Both locations are clean. Task completed!\n"
          ]
        }
      ],
      "source": [
        "#LAB01 - 30/09/2024\n",
        "#Q2\n",
        "#VACUUM CLEANER PROBLEM\n",
        "\n",
        "import random\n",
        "\n",
        "# Define the environment as a dictionary\n",
        "# Each key is a location, and the value is whether the location is 'Dirty' or 'Clean'\n",
        "environment = {\n",
        "    \"A\": random.choice([\"Dirty\", \"Clean\"]),\n",
        "    \"B\": random.choice([\"Dirty\", \"Clean\"])\n",
        "}\n",
        "\n",
        "# Initial location of the vacuum cleaner\n",
        "vacuum_location = random.choice([\"A\", \"B\"])\n",
        "\n",
        "# Function to display the environment and agent's location\n",
        "def display_environment():\n",
        "    print(\"Location A is\", environment['A'])\n",
        "    print(\"Location B is\", environment['B'])\n",
        "    print(\"Vacuum is at location\", vacuum_location)\n",
        "    print()\n",
        "\n",
        "# Define the agent function\n",
        "def vacuum_agent():\n",
        "    global vacuum_location\n",
        "\n",
        "    # Loop until both locations are clean\n",
        "    while environment[\"A\"] == \"Dirty\" or environment[\"B\"] == \"Dirty\":\n",
        "        display_environment()\n",
        "\n",
        "        # Check the current location\n",
        "        if environment[vacuum_location] == \"Dirty\":\n",
        "            # Clean the current location\n",
        "            print(\"Cleaning location\", vacuum_location)\n",
        "            print()\n",
        "            environment[vacuum_location] = \"Clean\"\n",
        "        else:\n",
        "            # Move to the other location\n",
        "            print(\"Location\", vacuum_location, \"is clean. Moving to the other location...\")\n",
        "            print()\n",
        "            vacuum_location = \"A\" if vacuum_location == \"B\" else \"B\"\n",
        "\n",
        "    print(\"Both locations are clean. Task completed!\")\n",
        "\n",
        "# Run the vacuum cleaner agent\n",
        "vacuum_agent()\n"
      ]
    }
  ]
}
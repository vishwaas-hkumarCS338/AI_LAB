{
  "nbformat": 4,
  "nbformat_minor": 0,
  "metadata": {
    "colab": {
      "provenance": []
    },
    "kernelspec": {
      "name": "python3",
      "display_name": "Python 3"
    },
    "language_info": {
      "name": "python"
    }
  },
  "cells": [
    {
      "cell_type": "code",
      "execution_count": 3,
      "metadata": {
        "colab": {
          "base_uri": "https://localhost:8080/"
        },
        "id": "UFqPoT9MZr5H",
        "outputId": "70787f81-1661-4750-9562-058222506150"
      },
      "outputs": [
        {
          "output_type": "stream",
          "name": "stdout",
          "text": [
            "Enter initial state as 4 space-separated integers (0 to 3): 3 1 2 0\n",
            "\n",
            "Iteration 0\n",
            "Current State: [3, 1, 2, 0], Cost: 2\n",
            "Neighbour: [1, 3, 2, 0], Cost: 1\n",
            "Neighbour: [2, 1, 3, 0], Cost: 1\n",
            "Neighbour: [0, 1, 2, 3], Cost: 6\n",
            "Neighbour: [3, 2, 1, 0], Cost: 6\n",
            "Neighbour: [3, 0, 2, 1], Cost: 1\n",
            "Neighbour: [3, 1, 0, 2], Cost: 1\n",
            "\n",
            "Iteration 1\n",
            "Current State: [1, 3, 2, 0], Cost: 1\n",
            "Neighbour: [3, 1, 2, 0], Cost: 2\n",
            "Neighbour: [2, 3, 1, 0], Cost: 2\n",
            "Neighbour: [0, 3, 2, 1], Cost: 4\n",
            "Neighbour: [1, 2, 3, 0], Cost: 4\n",
            "Neighbour: [1, 0, 2, 3], Cost: 2\n",
            "Neighbour: [1, 3, 0, 2], Cost: 0\n",
            "\n",
            "Final Results\n",
            "Initial State: [3, 1, 2, 0]\n",
            "Final State (Solution): [1, 3, 0, 2]\n",
            "Final Cost (Attacking Pairs): 0\n",
            "Solution found!\n"
          ]
        }
      ],
      "source": [
        "import random\n",
        "\n",
        "N = 4\n",
        "\n",
        "def calculateCost(state):\n",
        "    attacking_pairs = 0\n",
        "    for i in range(N):\n",
        "        for j in range(i + 1, N):\n",
        "            if state[i] == state[j] or abs(state[i] - state[j]) == abs(i - j):\n",
        "                attacking_pairs += 1\n",
        "    return attacking_pairs\n",
        "\n",
        "def getNeighbours(state):\n",
        "    neighbours = []\n",
        "    for i in range(N):\n",
        "        for j in range(i + 1, N):\n",
        "            new_state = state[:]\n",
        "            new_state[i], new_state[j] = new_state[j], new_state[i]\n",
        "            neighbours.append(new_state)\n",
        "    return neighbours\n",
        "\n",
        "def hillClimbing(initial_state):\n",
        "    current_state = initial_state\n",
        "    current_cost = calculateCost(current_state)\n",
        "\n",
        "    iteration = 0\n",
        "    while True:\n",
        "        print(f\"\\nIteration {iteration}\")\n",
        "        print(f\"Current State: {current_state}, Cost: {current_cost}\")\n",
        "\n",
        "        neighbours = getNeighbours(current_state)\n",
        "        next_state = current_state\n",
        "        next_cost = current_cost\n",
        "\n",
        "        # Evaluate each neighbor and print their costs\n",
        "        for neighbour in neighbours:\n",
        "            cost = calculateCost(neighbour)\n",
        "            print(f\"Neighbour: {neighbour}, Cost: {cost}\")\n",
        "            if cost < next_cost:\n",
        "                next_state = neighbour\n",
        "                next_cost = cost\n",
        "\n",
        "        # Check if we have reached a local minimum or found a solution\n",
        "        if next_cost == current_cost:\n",
        "            break  # Local optimum reached\n",
        "        else:\n",
        "            current_state, current_cost = next_state, next_cost\n",
        "\n",
        "        # Goal state found if no queens are attacking each other\n",
        "        if current_cost == 0:\n",
        "            break\n",
        "\n",
        "        iteration += 1\n",
        "\n",
        "    return current_state, current_cost\n",
        "\n",
        "initial_state = list(map(int, input(\"Enter initial state as 4 space-separated integers (0 to 3): \").split()))\n",
        "solution_state, solution_cost = hillClimbing(initial_state)\n",
        "\n",
        "print(\"\\nFinal Results\")\n",
        "print(\"Initial State:\", initial_state)\n",
        "print(\"Final State (Solution):\", solution_state)\n",
        "print(\"Final Cost (Attacking Pairs):\", solution_cost)\n",
        "\n",
        "if solution_cost == 0:\n",
        "    print(\"Solution found!\")\n",
        "else:\n",
        "    print(\"Local optimum reached, but no solution.\")\n"
      ]
    }
  ]
}
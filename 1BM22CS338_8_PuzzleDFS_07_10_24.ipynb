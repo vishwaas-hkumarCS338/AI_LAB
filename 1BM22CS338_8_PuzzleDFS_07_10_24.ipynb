{
  "nbformat": 4,
  "nbformat_minor": 0,
  "metadata": {
    "colab": {
      "provenance": []
    },
    "kernelspec": {
      "name": "python3",
      "display_name": "Python 3"
    },
    "language_info": {
      "name": "python"
    }
  },
  "cells": [
    {
      "cell_type": "code",
      "execution_count": 1,
      "metadata": {
        "colab": {
          "base_uri": "https://localhost:8080/"
        },
        "id": "gPeDKAcTz46w",
        "outputId": "4e852d6a-8a5c-413b-c59f-812f3f844b19"
      },
      "outputs": [
        {
          "output_type": "stream",
          "name": "stdout",
          "text": [
            "Initial State:\n",
            "(1, 2, 3)\n",
            "(4, 5, 6)\n",
            "(0, 7, 8)\n",
            "\n",
            "Running DFS...\n",
            "DFS Solution found in 2 moves:\n",
            "(1, 2, 3)\n",
            "(4, 5, 6)\n",
            "(0, 7, 8)\n",
            "\n",
            "(1, 2, 3)\n",
            "(4, 5, 6)\n",
            "(7, 0, 8)\n",
            "\n",
            "(1, 2, 3)\n",
            "(4, 5, 6)\n",
            "(7, 8, 0)\n",
            "\n"
          ]
        }
      ],
      "source": [
        "#8-PUZZLE PROBLEM USING DFS\n",
        "\n",
        "goal_state = (1, 2, 3, 4, 5, 6, 7, 8, 0)\n",
        "moves = {'up': -3, 'down': 3, 'left': -1, 'right': 1}\n",
        "\n",
        "def get_children(state):\n",
        "    blank_pos = state.index(0)\n",
        "    children = []\n",
        "\n",
        "    for move, pos_change in moves.items():\n",
        "        new_pos = blank_pos + pos_change\n",
        "\n",
        "        if move == 'left' and blank_pos % 3 == 0:\n",
        "            continue\n",
        "        if move == 'right' and blank_pos % 3 == 2:\n",
        "            continue\n",
        "        if 0 <= new_pos < 9:\n",
        "            new_state = list(state)\n",
        "            new_state[blank_pos], new_state[new_pos] = new_state[new_pos], new_state[blank_pos]\n",
        "            children.append(tuple(new_state))\n",
        "\n",
        "    return children\n",
        "\n",
        "def dfs(start_state):\n",
        "    stack = [(start_state, [])]\n",
        "    visited = set()\n",
        "\n",
        "    while stack:\n",
        "        state, path = stack.pop()\n",
        "        if state == goal_state:\n",
        "            return path + [state]\n",
        "        if state in visited:\n",
        "            continue\n",
        "        visited.add(state)\n",
        "\n",
        "        for child in get_children(state):\n",
        "            if child not in visited:\n",
        "                stack.append((child, path + [state]))\n",
        "\n",
        "    return None\n",
        "\n",
        "def print_puzzle(state):\n",
        "    for i in range(0, 9, 3):\n",
        "        print(state[i:i+3])\n",
        "    print()\n",
        "\n",
        "def run_dfs(start_state):\n",
        "    print(\"Initial State:\")\n",
        "    print_puzzle(start_state)\n",
        "\n",
        "    print(\"Running DFS...\")\n",
        "    solution = dfs(start_state)\n",
        "    if solution:\n",
        "        print(\"DFS Solution found in\", len(solution) - 1, \"moves:\")\n",
        "        for step in solution:\n",
        "            print_puzzle(step)\n",
        "    else:\n",
        "        print(\"No solution found using DFS.\")\n",
        "\n",
        "initial_state = (1, 2, 3, 4, 5, 6, 0, 7, 8)\n",
        "run_dfs(initial_state)"
      ]
    }
  ]
}
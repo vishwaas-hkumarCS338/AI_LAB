{
  "nbformat": 4,
  "nbformat_minor": 0,
  "metadata": {
    "colab": {
      "provenance": []
    },
    "kernelspec": {
      "name": "python3",
      "display_name": "Python 3"
    },
    "language_info": {
      "name": "python"
    }
  },
  "cells": [
    {
      "cell_type": "code",
      "source": [
        "import random\n",
        "import itertools\n",
        "import math\n",
        "\n",
        "def eval_formula(formula, assignment):\n",
        "    formula = formula.replace('and', 'and').replace('or', 'or').replace('not', 'not')\n",
        "    formula = formula.replace('→', ' or not ')  # Implication A → B is equivalent to (not A or B)\n",
        "    formula = formula.replace('↔', '==')  # Equivalence A ↔ B is equivalent to (A == B)\n",
        "\n",
        "    env = {var: value for var, value in zip(assignment.keys(), assignment.values())}\n",
        "\n",
        "    return eval(formula, {}, env)\n",
        "\n",
        "def generate_initial_state(variables):\n",
        "    return {var: random.choice([True, False]) for var in variables}\n",
        "\n",
        "def entails(KB, alpha):\n",
        "    # Find all unique variables in KB and alpha\n",
        "    variables = set(''.join([ch for ch in ''.join(KB + [alpha]) if ch.isalpha()]))\n",
        "\n",
        "    # Generate all possible truth assignments for the variables\n",
        "    truth_assignments = list(itertools.product([True, False], repeat=len(variables)))\n",
        "    var_list = list(variables)\n",
        "\n",
        "    for assignment in truth_assignments:\n",
        "        # Map the truth assignment to each variable\n",
        "        assignment_dict = dict(zip(var_list, assignment))\n",
        "\n",
        "        # Combine all KB formulas with AND and evaluate\n",
        "        kb_combined = all(eval_formula(formula, assignment_dict) for formula in KB)\n",
        "        alpha_true = eval_formula(alpha, assignment_dict)\n",
        "\n",
        "        # If KB is true and alpha is false for any assignment, KB does not entail alpha\n",
        "        if kb_combined and not alpha_true:\n",
        "            return False\n",
        "\n",
        "    # If we reach here, it means KB entails alpha\n",
        "    return True\n",
        "\n",
        "# Example Usage →\n",
        "KB = [\"not Q or P\", \"not P or (not Q)\", \"Q or R\"]\n",
        "alpha = \"R\"\n",
        "\n",
        "# Check if KB entails alpha\n",
        "if entails(KB, alpha):\n",
        "    print(\"KB entails R\")\n",
        "else:\n",
        "    print(\"KB does not entail R\")\n"
      ],
      "metadata": {
        "colab": {
          "base_uri": "https://localhost:8080/",
          "height": 0
        },
        "id": "gcaeMPnDiPOW",
        "outputId": "b82790b8-b643-44cf-f7d8-42eef5fbdfc8"
      },
      "execution_count": 5,
      "outputs": [
        {
          "output_type": "stream",
          "name": "stdout",
          "text": [
            "KB entails R\n"
          ]
        }
      ]
    },
    {
      "cell_type": "code",
      "source": [
        "import random\n",
        "import itertools\n",
        "import math\n",
        "\n",
        "def eval_formula(formula, assignment):\n",
        "    formula = formula.replace('and', 'and').replace('or', 'or').replace('not', 'not')\n",
        "    formula = formula.replace('→', ' or not ')  # Implication A → B is equivalent to (not A or B)\n",
        "    formula = formula.replace('↔', '==')  # Equivalence A ↔ B is equivalent to (A == B)\n",
        "\n",
        "    env = {var: value for var, value in zip(assignment.keys(), assignment.values())}\n",
        "\n",
        "    return eval(formula, {}, env)\n",
        "\n",
        "def generate_initial_state(variables):\n",
        "    return {var: random.choice([True, False]) for var in variables}\n",
        "\n",
        "def entails(KB, alpha):\n",
        "    # Find all unique variables in KB and alpha\n",
        "    variables = set(''.join([ch for ch in ''.join(KB + [alpha]) if ch.isalpha()]))\n",
        "\n",
        "    # Generate all possible truth assignments for the variables\n",
        "    truth_assignments = list(itertools.product([True, False], repeat=len(variables)))\n",
        "    var_list = list(variables)\n",
        "\n",
        "    for assignment in truth_assignments:\n",
        "        # Map the truth assignment to each variable\n",
        "        assignment_dict = dict(zip(var_list, assignment))\n",
        "\n",
        "        # Combine all KB formulas with AND and evaluate\n",
        "        kb_combined = all(eval_formula(formula, assignment_dict) for formula in KB)\n",
        "        alpha_true = eval_formula(alpha, assignment_dict)\n",
        "\n",
        "        # If KB is true and alpha is false for any assignment, KB does not entail alpha\n",
        "        if kb_combined and not alpha_true:\n",
        "            return False\n",
        "\n",
        "    # If we reach here, it means KB entails alpha\n",
        "    return True\n",
        "\n",
        "# Example Usage →\n",
        "KB = [\"not Q or P\", \"not P or (not Q)\", \"Q or R\"]\n",
        "alpha = \"not R or P\"\n",
        "\n",
        "# Check if KB entails alpha\n",
        "if entails(KB, alpha):\n",
        "    print(\"KB entails R\")\n",
        "else:\n",
        "    print(\"KB does not entail R\")\n"
      ],
      "metadata": {
        "colab": {
          "base_uri": "https://localhost:8080/",
          "height": 0
        },
        "id": "tKcXmH3higD3",
        "outputId": "96a75f50-09b9-4f8b-940f-9d9df0a140c3"
      },
      "execution_count": 6,
      "outputs": [
        {
          "output_type": "stream",
          "name": "stdout",
          "text": [
            "KB does not entail R\n"
          ]
        }
      ]
    },
    {
      "cell_type": "code",
      "source": [
        "import random\n",
        "import itertools\n",
        "import math\n",
        "\n",
        "def eval_formula(formula, assignment):\n",
        "    formula = formula.replace('and', 'and').replace('or', 'or').replace('not', 'not')\n",
        "    formula = formula.replace('→', ' or not ')  # Implication A → B is equivalent to (not A or B)\n",
        "    formula = formula.replace('↔', '==')  # Equivalence A ↔ B is equivalent to (A == B)\n",
        "\n",
        "    env = {var: value for var, value in zip(assignment.keys(), assignment.values())}\n",
        "\n",
        "    return eval(formula, {}, env)\n",
        "\n",
        "def generate_initial_state(variables):\n",
        "    return {var: random.choice([True, False]) for var in variables}\n",
        "\n",
        "def entails(KB, alpha):\n",
        "    # Find all unique variables in KB and alpha\n",
        "    variables = set(''.join([ch for ch in ''.join(KB + [alpha]) if ch.isalpha()]))\n",
        "\n",
        "    # Generate all possible truth assignments for the variables\n",
        "    truth_assignments = list(itertools.product([True, False], repeat=len(variables)))\n",
        "    var_list = list(variables)\n",
        "\n",
        "    for assignment in truth_assignments:\n",
        "        # Map the truth assignment to each variable\n",
        "        assignment_dict = dict(zip(var_list, assignment))\n",
        "\n",
        "        # Combine all KB formulas with AND and evaluate\n",
        "        kb_combined = all(eval_formula(formula, assignment_dict) for formula in KB)\n",
        "        alpha_true = eval_formula(alpha, assignment_dict)\n",
        "\n",
        "        # If KB is true and alpha is false for any assignment, KB does not entail alpha\n",
        "        if kb_combined and not alpha_true:\n",
        "            return False\n",
        "\n",
        "    # If we reach here, it means KB entails alpha\n",
        "    return True\n",
        "\n",
        "# Example Usage →\n",
        "KB = [\"not Q or P\", \"not P or (not Q)\", \"Q or R\"]\n",
        "alpha = \"not Q or R\"\n",
        "\n",
        "# Check if KB entails alpha\n",
        "if entails(KB, alpha):\n",
        "    print(\"KB entails R\")\n",
        "else:\n",
        "    print(\"KB does not entail R\")\n"
      ],
      "metadata": {
        "colab": {
          "base_uri": "https://localhost:8080/",
          "height": 0
        },
        "id": "bHdBrmzLikGP",
        "outputId": "97edd4bc-f3b6-4ebc-dd27-018283e581d6"
      },
      "execution_count": 7,
      "outputs": [
        {
          "output_type": "stream",
          "name": "stdout",
          "text": [
            "KB entails R\n"
          ]
        }
      ]
    }
  ]
}